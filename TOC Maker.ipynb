{
 "cells": [
  {
   "cell_type": "code",
   "execution_count": 12,
   "metadata": {},
   "outputs": [],
   "source": [
    "from PyPDF2 import PdfFileWriter, PdfFileReader\n",
    "import os\n",
    "import csv\n",
    "from pprint import pprint\n",
    "from collections import namedtuple\n",
    "from io import StringIO"
   ]
  },
  {
   "cell_type": "code",
   "execution_count": 13,
   "metadata": {
    "scrolled": true
   },
   "outputs": [
    {
     "output_type": "execute_result",
     "data": {
      "text/plain": "['outline.sh',\n 'files.txt',\n 'pages-103-108.pdf',\n 'pages-066-067.pdf',\n 'pages-144-146.pdf',\n 'le-nozze-di-figaro-act-i.pdf',\n 'figaro-toc-act-i.txt',\n 'pages-005-028.pdf',\n 'le-nozze-di-figaro-act-i-page-labels.pdf',\n 'pages-109-126.pdf',\n 'pages-068-079.pdf',\n 'pages-139-144.pdf',\n 'pages-090-093.pdf',\n 'pages-042-053.pdf',\n 'pages-053-057.pdf',\n 'pages-137-139.pdf',\n 'le-nozze-di-figaro-act-i-copy.pdf',\n 'pages-161-166.pdf',\n 'figaro-toc-act-i.csv',\n 'concat.sh',\n 'pages-029-040.pdf',\n 'pages-146-160.pdf',\n 'pages-127-128.pdf',\n 'pages-057-066.pdf',\n 'front-matter.pdf',\n 'pages-081-090.pdf',\n 'pages-080-080.pdf',\n 'pages-094-103.pdf',\n 'figaro-toc-act-i_bookmarks.txt',\n 'nma_305_-30_-3_eng.pdf',\n 'pages-041-042.pdf',\n 'pages-129-136.pdf']"
     },
     "metadata": {},
     "execution_count": 13
    }
   ],
   "source": [
    "os.chdir(os.path.expanduser('~/Documents/le-nozze-di-figaro/'))\n",
    "os.listdir()"
   ]
  },
  {
   "cell_type": "code",
   "execution_count": 14,
   "metadata": {},
   "outputs": [],
   "source": [
    "\n",
    "Record = namedtuple('Record', 'level title label page')\n",
    "\n",
    "def get_record(record_dict):\n",
    "    level = int(record_dict['Level'])\n",
    "    title = record_dict['Title']\n",
    "    page_string = record_dict['Page']\n",
    "    if page_string:\n",
    "        page = int(page_string)\n",
    "    else:\n",
    "        page = None\n",
    "    label = record_dict['Label']\n",
    "    return Record(level, title, label, page)\n",
    "    "
   ]
  },
  {
   "cell_type": "code",
   "execution_count": 15,
   "metadata": {
    "tags": []
   },
   "outputs": [
    {
     "output_type": "stream",
     "name": "stdout",
     "text": "root (page None)\n  Zur Edition (page 4)\n  Vorwort (page 5)\n  Faksimiles (page 21)\n  Sinfonia (page 29)\n  Atto primo (page 53)\n    Scena I (page 53)\n      No. 1 Duettino, ‟Cinque ... dieci ...” (page 53)\n      Recitativo, ‟Cosa stai misurando” (page 65)\n      No. 2 Duettino, ‟Se a caso madama la notte ti chiama” (page 66)\n      Recitativo,‟Or bene; ascolta, e taci!” (page 77)\n    Scena II (page 80)\n      Recitativo, ‟Bravo signor padrone!” (page 80)\n      No. 3 Cavatina, ‟Se vuol ballare signor Contino” (page 81)\n    Scena III  (page 90)\n      Recitativo, ‟Ed aspettaste il giorno fissato” (page 90)\n      No. 4 Aria, ‟La vendetta” (page 92)\n    Scena IV (page 104)\n      Recitativo, ‟Tutto ancor no ho perso” (page 104)\n      No. 5 Duettino, ‟Va resti vita, madama brillante” (page 105)\n    Scena V (page 114)\n      Recitativo, ‟Va’ là, vecchia pedante” (page 114)\n      No. 6 Aria, ‟No so più cosa son, cosa faccio” (page 118)\n    Scena VI (page 127)\n      Recitativo, ‟Ah son perduto!” (page 127)\n    Scena VII (page 129)\n      Recitativo, ‟Susanna, il ciel vi salvi” (page 129)\n      No. 7 Terzetto, ‟Cosa sento! tosto andate” (page 133)\n      Recitativo, ‟Basilio, in traccia tosto di Figaro volate” (page 151)\n    Scena VIII (page 151)\n      No. 8 Coro, ‟Giovani liete fiori spargete” (page 153)\n      Recitativo, ‟Cos’ è questa commedia?” (page 161)\n      No. 9 Coro, ‟Giovani liete fiori spargete” (page 163)\n      Recitativo, ‟Evviva! Evviva! Evviva!” (page 168)\n      No. 10 Aria, ‟Non più andrai farfallone amoroso” (page 170)\n\n"
    }
   ],
   "source": [
    "class Node:\n",
    "    \n",
    "    \n",
    "    def __init__(self, rec):\n",
    "        self._rec = rec\n",
    "        self._children = []\n",
    "        \n",
    "        \n",
    "    @property\n",
    "    def label(self):\n",
    "        return self._rec.label\n",
    "    \n",
    "    @property\n",
    "    def level(self):\n",
    "        return self._rec.level\n",
    "    \n",
    "    @property\n",
    "    def title(self):\n",
    "        return self._rec.title\n",
    "    \n",
    "    @property\n",
    "    def page(self):\n",
    "        return self._rec.page\n",
    "    \n",
    "    @property\n",
    "    def children(self):\n",
    "        return self._children\n",
    "    \n",
    "    \n",
    "    def append(self, child):\n",
    "        self._children.append(child)\n",
    "        \n",
    "        \n",
    "    def __repr__(self):\n",
    "        with StringIO() as sp:\n",
    "            sp.write((self.level) * '  ')\n",
    "            sp.write(f'{self.title} (page {self.page})')\n",
    "            sp.write('\\n')\n",
    "            \n",
    "            for child in self._children:\n",
    "                sp.write(str(child))\n",
    "                \n",
    "            return sp.getvalue()\n",
    "        \n",
    "    def __str__(self):\n",
    "        return self.__repr__()\n",
    "    \n",
    "\n",
    "def get_raw_toc():\n",
    "    with open('figaro-toc-act-i.csv') as fp:\n",
    "        reader = csv.DictReader(fp)\n",
    "        return [get_record(row) for row in reader]\n",
    "    \n",
    "def build_toc_tree():\n",
    "    raw_toc = get_raw_toc()\n",
    "    root = Node(Record(title='root', level=0, label=None, page=None))\n",
    "    parents = []\n",
    "    for i in range(len(raw_toc)):\n",
    "        rec = raw_toc[i]\n",
    "        node = Node(rec)\n",
    "        if rec.level == 1:\n",
    "            root.append(node)\n",
    "            parents.clear()\n",
    "            parents.append(node)\n",
    "        else:\n",
    "            parent_node = parents[-1]\n",
    "            parent_level = parent_node.level\n",
    "            if rec.level <= parent_level:\n",
    "                parents.pop()\n",
    "                parent_node = parents[-1]\n",
    "                parent_node.append(node)\n",
    "                parents.append(node)\n",
    "            elif rec.level > parent_node.level:\n",
    "                parents[-1].append(node)\n",
    "                parents.append(node)\n",
    "\n",
    "    return root\n",
    "\n",
    "tree = build_toc_tree()\n",
    "    \n",
    "pprint(tree)"
   ]
  },
  {
   "cell_type": "code",
   "execution_count": 16,
   "metadata": {},
   "outputs": [
    {
     "output_type": "error",
     "ename": "NameError",
     "evalue": "name 'get_toc' is not defined",
     "traceback": [
      "\u001b[0;31m---------------------------------------------------------------------------\u001b[0m",
      "\u001b[0;31mNameError\u001b[0m                                 Traceback (most recent call last)",
      "\u001b[0;32m<ipython-input-16-069dec34e80d>\u001b[0m in \u001b[0;36m<module>\u001b[0;34m\u001b[0m\n\u001b[1;32m     15\u001b[0m \u001b[0;31m#             writer.addBookmark(record.title, record.page, parents[-1])\u001b[0m\u001b[0;34m\u001b[0m\u001b[0;34m\u001b[0m\u001b[0;34m\u001b[0m\u001b[0m\n\u001b[1;32m     16\u001b[0m \u001b[0;34m\u001b[0m\u001b[0m\n\u001b[0;32m---> 17\u001b[0;31m     \u001b[0;32mfor\u001b[0m \u001b[0mrecord\u001b[0m \u001b[0;32min\u001b[0m \u001b[0mget_toc\u001b[0m\u001b[0;34m(\u001b[0m\u001b[0;34m)\u001b[0m\u001b[0;34m:\u001b[0m\u001b[0;34m\u001b[0m\u001b[0;34m\u001b[0m\u001b[0m\n\u001b[0m\u001b[1;32m     18\u001b[0m         \u001b[0mwriter\u001b[0m\u001b[0;34m.\u001b[0m\u001b[0maddBookmark\u001b[0m\u001b[0;34m(\u001b[0m\u001b[0mrecord\u001b[0m\u001b[0;34m.\u001b[0m\u001b[0mtitle\u001b[0m\u001b[0;34m,\u001b[0m \u001b[0mrecord\u001b[0m\u001b[0;34m.\u001b[0m\u001b[0mpage\u001b[0m \u001b[0;34m-\u001b[0m \u001b[0;36m1\u001b[0m\u001b[0;34m)\u001b[0m\u001b[0;34m\u001b[0m\u001b[0;34m\u001b[0m\u001b[0m\n\u001b[1;32m     19\u001b[0m \u001b[0;34m\u001b[0m\u001b[0m\n",
      "\u001b[0;31mNameError\u001b[0m: name 'get_toc' is not defined"
     ]
    }
   ],
   "source": [
    "writer = PdfFileWriter()\n",
    "with open('le-nozze-di-figaro-act-i-page-labels.pdf', mode='rb') as fp1:\n",
    "    reader = PdfFileReader(fp1)\n",
    "    for i in range(reader.getNumPages()):\n",
    "        writer.addPage(reader.getPage(i))\n",
    "    \n",
    "#     parents = []\n",
    "#     previous_record = None\n",
    "#     for record in get_toc():\n",
    "#         if record.level == 1:\n",
    "#             previous_record = writer.addBookmark(record.title, record.page)\n",
    "#             parents.clear()\n",
    "#             parents.append(previous_record)\n",
    "#         else:\n",
    "#             writer.addBookmark(record.title, record.page, parents[-1])\n",
    "    \n",
    "    for record in get_toc():\n",
    "        writer.addBookmark(record.title, record.page - 1)\n",
    "    \n",
    "        \n",
    "    with open('le-nozze-di-figaro-act-i-copy.pdf', mode='wb') as fp2:\n",
    "        writer.write(fp2)"
   ]
  },
  {
   "cell_type": "code",
   "execution_count": 17,
   "metadata": {},
   "outputs": [
    {
     "output_type": "execute_result",
     "data": {
      "text/plain": "['__class__',\n '__delattr__',\n '__dict__',\n '__dir__',\n '__doc__',\n '__eq__',\n '__format__',\n '__ge__',\n '__getattribute__',\n '__gt__',\n '__hash__',\n '__init__',\n '__init_subclass__',\n '__le__',\n '__lt__',\n '__module__',\n '__ne__',\n '__new__',\n '__reduce__',\n '__reduce_ex__',\n '__repr__',\n '__setattr__',\n '__sizeof__',\n '__str__',\n '__subclasshook__',\n '__weakref__',\n '_addObject',\n '_addPage',\n '_sweepIndirectReferences',\n '_valid_layouts',\n '_valid_modes',\n 'addAttachment',\n 'addBlankPage',\n 'addBookmark',\n 'addBookmarkDestination',\n 'addBookmarkDict',\n 'addJS',\n 'addLink',\n 'addMetadata',\n 'addNamedDestination',\n 'addNamedDestinationObject',\n 'addPage',\n 'addURI',\n 'appendPagesFromReader',\n 'cloneDocumentFromReader',\n 'cloneReaderDocumentRoot',\n 'encrypt',\n 'getNamedDestRoot',\n 'getNumPages',\n 'getObject',\n 'getOutlineRoot',\n 'getPage',\n 'getPageLayout',\n 'getPageMode',\n 'getReference',\n 'insertBlankPage',\n 'insertPage',\n 'pageLayout',\n 'pageMode',\n 'removeImages',\n 'removeLinks',\n 'removeText',\n 'setPageLayout',\n 'setPageMode',\n 'updatePageFormFieldValues',\n 'write']"
     },
     "metadata": {},
     "execution_count": 17
    }
   ],
   "source": [
    "dir(PdfFileWriter)"
   ]
  },
  {
   "cell_type": "code",
   "execution_count": 11,
   "metadata": {
    "tags": []
   },
   "outputs": [
    {
     "output_type": "error",
     "ename": "KeyboardInterrupt",
     "evalue": "",
     "traceback": [
      "\u001b[0;31m---------------------------------------------------------------------------\u001b[0m",
      "\u001b[0;31mKeyboardInterrupt\u001b[0m                         Traceback (most recent call last)",
      "\u001b[0;32m<ipython-input-11-dbc6746d409c>\u001b[0m in \u001b[0;36m<module>\u001b[0;34m\u001b[0m\n\u001b[1;32m      1\u001b[0m \u001b[0mbreakpoint\u001b[0m\u001b[0;34m(\u001b[0m\u001b[0;34m)\u001b[0m\u001b[0;34m\u001b[0m\u001b[0;34m\u001b[0m\u001b[0m\n\u001b[0;32m----> 2\u001b[0;31m \u001b[0;32mclass\u001b[0m \u001b[0mNumContainer\u001b[0m\u001b[0;34m(\u001b[0m\u001b[0;34m)\u001b[0m\u001b[0;34m:\u001b[0m\u001b[0;34m\u001b[0m\u001b[0;34m\u001b[0m\u001b[0m\n\u001b[0m\u001b[1;32m      3\u001b[0m \u001b[0;34m\u001b[0m\u001b[0m\n\u001b[1;32m      4\u001b[0m     \u001b[0;32mdef\u001b[0m \u001b[0m__init__\u001b[0m\u001b[0;34m(\u001b[0m\u001b[0mself\u001b[0m\u001b[0;34m,\u001b[0m \u001b[0mi\u001b[0m\u001b[0;34m)\u001b[0m\u001b[0;34m:\u001b[0m\u001b[0;34m\u001b[0m\u001b[0;34m\u001b[0m\u001b[0m\n\u001b[1;32m      5\u001b[0m         \u001b[0mself\u001b[0m\u001b[0;34m.\u001b[0m\u001b[0m_number\u001b[0m \u001b[0;34m=\u001b[0m \u001b[0mi\u001b[0m\u001b[0;34m\u001b[0m\u001b[0;34m\u001b[0m\u001b[0m\n",
      "\u001b[0;32m<ipython-input-11-dbc6746d409c>\u001b[0m in \u001b[0;36mNumContainer\u001b[0;34m()\u001b[0m\n\u001b[1;32m      1\u001b[0m \u001b[0mbreakpoint\u001b[0m\u001b[0;34m(\u001b[0m\u001b[0;34m)\u001b[0m\u001b[0;34m\u001b[0m\u001b[0;34m\u001b[0m\u001b[0m\n\u001b[0;32m----> 2\u001b[0;31m \u001b[0;32mclass\u001b[0m \u001b[0mNumContainer\u001b[0m\u001b[0;34m(\u001b[0m\u001b[0;34m)\u001b[0m\u001b[0;34m:\u001b[0m\u001b[0;34m\u001b[0m\u001b[0;34m\u001b[0m\u001b[0m\n\u001b[0m\u001b[1;32m      3\u001b[0m \u001b[0;34m\u001b[0m\u001b[0m\n\u001b[1;32m      4\u001b[0m     \u001b[0;32mdef\u001b[0m \u001b[0m__init__\u001b[0m\u001b[0;34m(\u001b[0m\u001b[0mself\u001b[0m\u001b[0;34m,\u001b[0m \u001b[0mi\u001b[0m\u001b[0;34m)\u001b[0m\u001b[0;34m:\u001b[0m\u001b[0;34m\u001b[0m\u001b[0;34m\u001b[0m\u001b[0m\n\u001b[1;32m      5\u001b[0m         \u001b[0mself\u001b[0m\u001b[0;34m.\u001b[0m\u001b[0m_number\u001b[0m \u001b[0;34m=\u001b[0m \u001b[0mi\u001b[0m\u001b[0;34m\u001b[0m\u001b[0;34m\u001b[0m\u001b[0m\n",
      "\u001b[0;32m<ipython-input-11-dbc6746d409c>\u001b[0m in \u001b[0;36mNumContainer\u001b[0;34m()\u001b[0m\n\u001b[1;32m      1\u001b[0m \u001b[0mbreakpoint\u001b[0m\u001b[0;34m(\u001b[0m\u001b[0;34m)\u001b[0m\u001b[0;34m\u001b[0m\u001b[0;34m\u001b[0m\u001b[0m\n\u001b[0;32m----> 2\u001b[0;31m \u001b[0;32mclass\u001b[0m \u001b[0mNumContainer\u001b[0m\u001b[0;34m(\u001b[0m\u001b[0;34m)\u001b[0m\u001b[0;34m:\u001b[0m\u001b[0;34m\u001b[0m\u001b[0;34m\u001b[0m\u001b[0m\n\u001b[0m\u001b[1;32m      3\u001b[0m \u001b[0;34m\u001b[0m\u001b[0m\n\u001b[1;32m      4\u001b[0m     \u001b[0;32mdef\u001b[0m \u001b[0m__init__\u001b[0m\u001b[0;34m(\u001b[0m\u001b[0mself\u001b[0m\u001b[0;34m,\u001b[0m \u001b[0mi\u001b[0m\u001b[0;34m)\u001b[0m\u001b[0;34m:\u001b[0m\u001b[0;34m\u001b[0m\u001b[0;34m\u001b[0m\u001b[0m\n\u001b[1;32m      5\u001b[0m         \u001b[0mself\u001b[0m\u001b[0;34m.\u001b[0m\u001b[0m_number\u001b[0m \u001b[0;34m=\u001b[0m \u001b[0mi\u001b[0m\u001b[0;34m\u001b[0m\u001b[0;34m\u001b[0m\u001b[0m\n",
      "\u001b[0;32m_pydevd_bundle/pydevd_cython.pyx\u001b[0m in \u001b[0;36m_pydevd_bundle.pydevd_cython.SafeCallWrapper.__call__\u001b[0;34m()\u001b[0m\n",
      "\u001b[0;32m_pydevd_bundle/pydevd_cython.pyx\u001b[0m in \u001b[0;36m_pydevd_bundle.pydevd_cython.PyDBFrame.trace_dispatch\u001b[0;34m()\u001b[0m\n",
      "\u001b[0;32m_pydevd_bundle/pydevd_cython.pyx\u001b[0m in \u001b[0;36m_pydevd_bundle.pydevd_cython.PyDBFrame.trace_dispatch\u001b[0;34m()\u001b[0m\n",
      "\u001b[0;32m_pydevd_bundle/pydevd_cython.pyx\u001b[0m in \u001b[0;36m_pydevd_bundle.pydevd_cython.PyDBFrame.trace_dispatch\u001b[0;34m()\u001b[0m\n",
      "\u001b[0;32m_pydevd_bundle/pydevd_cython.pyx\u001b[0m in \u001b[0;36m_pydevd_bundle.pydevd_cython.PyDBFrame.do_wait_suspend\u001b[0;34m()\u001b[0m\n",
      "\u001b[0;32m~/.vscode/extensions/ms-python.python-2020.8.108011/pythonFiles/lib/python/debugpy/_vendored/pydevd/pydevd.py\u001b[0m in \u001b[0;36mdo_wait_suspend\u001b[0;34m(self, thread, frame, event, arg, is_unhandled_exception)\u001b[0m\n\u001b[1;32m   1844\u001b[0m \u001b[0;34m\u001b[0m\u001b[0m\n\u001b[1;32m   1845\u001b[0m             \u001b[0;32mwith\u001b[0m \u001b[0mself\u001b[0m\u001b[0;34m.\u001b[0m\u001b[0m_threads_suspended_single_notification\u001b[0m\u001b[0;34m.\u001b[0m\u001b[0mnotify_thread_suspended\u001b[0m\u001b[0;34m(\u001b[0m\u001b[0mthread_id\u001b[0m\u001b[0;34m,\u001b[0m \u001b[0mstop_reason\u001b[0m\u001b[0;34m)\u001b[0m\u001b[0;34m:\u001b[0m\u001b[0;34m\u001b[0m\u001b[0;34m\u001b[0m\u001b[0m\n\u001b[0;32m-> 1846\u001b[0;31m                 \u001b[0mkeep_suspended\u001b[0m \u001b[0;34m=\u001b[0m \u001b[0mself\u001b[0m\u001b[0;34m.\u001b[0m\u001b[0m_do_wait_suspend\u001b[0m\u001b[0;34m(\u001b[0m\u001b[0mthread\u001b[0m\u001b[0;34m,\u001b[0m \u001b[0mframe\u001b[0m\u001b[0;34m,\u001b[0m \u001b[0mevent\u001b[0m\u001b[0;34m,\u001b[0m \u001b[0marg\u001b[0m\u001b[0;34m,\u001b[0m \u001b[0msuspend_type\u001b[0m\u001b[0;34m,\u001b[0m \u001b[0mfrom_this_thread\u001b[0m\u001b[0;34m,\u001b[0m \u001b[0mframes_tracker\u001b[0m\u001b[0;34m)\u001b[0m\u001b[0;34m\u001b[0m\u001b[0;34m\u001b[0m\u001b[0m\n\u001b[0m\u001b[1;32m   1847\u001b[0m \u001b[0;34m\u001b[0m\u001b[0m\n\u001b[1;32m   1848\u001b[0m         \u001b[0mframes_list\u001b[0m \u001b[0;34m=\u001b[0m \u001b[0;32mNone\u001b[0m\u001b[0;34m\u001b[0m\u001b[0;34m\u001b[0m\u001b[0m\n",
      "\u001b[0;32m~/.vscode/extensions/ms-python.python-2020.8.108011/pythonFiles/lib/python/debugpy/_vendored/pydevd/pydevd.py\u001b[0m in \u001b[0;36m_do_wait_suspend\u001b[0;34m(self, thread, frame, event, arg, suspend_type, from_this_thread, frames_tracker)\u001b[0m\n\u001b[1;32m   1879\u001b[0m \u001b[0;34m\u001b[0m\u001b[0m\n\u001b[1;32m   1880\u001b[0m             \u001b[0mself\u001b[0m\u001b[0;34m.\u001b[0m\u001b[0mprocess_internal_commands\u001b[0m\u001b[0;34m(\u001b[0m\u001b[0;34m)\u001b[0m\u001b[0;34m\u001b[0m\u001b[0;34m\u001b[0m\u001b[0m\n\u001b[0;32m-> 1881\u001b[0;31m             \u001b[0mtime\u001b[0m\u001b[0;34m.\u001b[0m\u001b[0msleep\u001b[0m\u001b[0;34m(\u001b[0m\u001b[0;36m0.01\u001b[0m\u001b[0;34m)\u001b[0m\u001b[0;34m\u001b[0m\u001b[0;34m\u001b[0m\u001b[0m\n\u001b[0m\u001b[1;32m   1882\u001b[0m \u001b[0;34m\u001b[0m\u001b[0m\n\u001b[1;32m   1883\u001b[0m         \u001b[0mself\u001b[0m\u001b[0;34m.\u001b[0m\u001b[0mcancel_async_evaluation\u001b[0m\u001b[0;34m(\u001b[0m\u001b[0mget_current_thread_id\u001b[0m\u001b[0;34m(\u001b[0m\u001b[0mthread\u001b[0m\u001b[0;34m)\u001b[0m\u001b[0;34m,\u001b[0m \u001b[0mstr\u001b[0m\u001b[0;34m(\u001b[0m\u001b[0mid\u001b[0m\u001b[0;34m(\u001b[0m\u001b[0mframe\u001b[0m\u001b[0;34m)\u001b[0m\u001b[0;34m)\u001b[0m\u001b[0;34m)\u001b[0m\u001b[0;34m\u001b[0m\u001b[0;34m\u001b[0m\u001b[0m\n",
      "\u001b[0;31mKeyboardInterrupt\u001b[0m: "
     ]
    }
   ],
   "source": [
    "class NumContainer():\n",
    "\n",
    "    def __init__(self, i):\n",
    "        self._number = i\n",
    "        self._children = None\n",
    "\n",
    "    @property\n",
    "    def number(self):\n",
    "        return self._number\n",
    "\n",
    "    @property\n",
    "    def children(self):\n",
    "        return self._children\n",
    "\n",
    "    @children.setter\n",
    "    def children(self, value):\n",
    "        self._children = value\n",
    "\n",
    "\n",
    "def get_alpha():\n",
    "    for i in range(ord('a'), ord('z')):\n",
    "        yield chr(i)\n",
    "\n",
    "def get_numbers():\n",
    "    for i in range(1, 5):\n",
    "       cont = NumContainer(i)\n",
    "       cont.children = get_alpha()\n",
    "       yield cont\n",
    "\n",
    "for cont in get_numbers():\n",
    "    print(cont.number)\n",
    "    for alpha in cont.children:\n",
    "        print(alpha)\n",
    "\n"
   ]
  },
  {
   "cell_type": "code",
   "execution_count": null,
   "metadata": {},
   "outputs": [],
   "source": []
  }
 ],
 "metadata": {
  "kernelspec": {
   "display_name": "Python 3",
   "language": "python",
   "name": "python3"
  },
  "language_info": {
   "codemirror_mode": {
    "name": "ipython",
    "version": 3
   },
   "file_extension": ".py",
   "mimetype": "text/x-python",
   "name": "python",
   "nbconvert_exporter": "python",
   "pygments_lexer": "ipython3",
   "version": "3.7.4-final"
  }
 },
 "nbformat": 4,
 "nbformat_minor": 4
}